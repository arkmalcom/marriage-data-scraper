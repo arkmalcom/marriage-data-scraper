{
 "cells": [
  {
   "cell_type": "markdown",
   "id": "500c4acd",
   "metadata": {},
   "source": [
    "# Introduction\n",
    "\n",
    "Web scraping project from wikipedia. Divorce rate among actors."
   ]
  },
  {
   "cell_type": "markdown",
   "id": "e35dbde2",
   "metadata": {},
   "source": [
    "# Necessary libraries"
   ]
  },
  {
   "cell_type": "code",
   "execution_count": 1,
   "id": "b802adf0",
   "metadata": {},
   "outputs": [],
   "source": [
    "import pandas as pd\n",
    "import numpy as np\n",
    "import matplotlib.pyplot as plt\n",
    "import seaborn\n",
    "import requests\n",
    "import re\n",
    "from bs4 import BeautifulSoup"
   ]
  },
  {
   "cell_type": "markdown",
   "id": "6ab118ec",
   "metadata": {},
   "source": [
    "# Create A Header\n"
   ]
  },
  {
   "cell_type": "code",
   "execution_count": 2,
   "id": "69f74886",
   "metadata": {},
   "outputs": [],
   "source": [
    "headers = {\n",
    "    'Access-Control-Allow-Origin': '*',\n",
    "    'Access-Control-Allow-Methods': 'GET',\n",
    "    'Access-Control-Allow-Headers': 'Content-Type',\n",
    "    'Access-Control-Max-Age': '3600',\n",
    "    'User-Agent': 'Mozilla/5.0 (X11; Ubuntu; Linux x86_64; rv:52.0) Gecko/20100101 Firefox/52.0'\n",
    "}"
   ]
  },
  {
   "cell_type": "markdown",
   "id": "279ead53",
   "metadata": {},
   "source": [
    "# Scraping List of Politicians"
   ]
  },
  {
   "cell_type": "code",
   "execution_count": 3,
   "id": "42f5dffd",
   "metadata": {},
   "outputs": [],
   "source": [
    "politicians = []\n",
    "url = \"https://ballotpedia.org/List_of_current_members_of_the_U.S._Congress\"\n",
    "req = requests.get(url, headers)\n",
    "soup = BeautifulSoup(req.content, 'html.parser')\n",
    "pol_table = soup.find_all(\"table\", {\"id\" : \"officeholder-table\"})\n",
    "for element in pol_table:\n",
    "    rows = element.find_all('tr')\n",
    "    for row in rows[1:]:\n",
    "        cells = row.find_all('td')\n",
    "        for cell in cells[1]:\n",
    "            cell = cell.text\n",
    "            cell = re.sub('\\s*([A-Z])([a-z])*\\.', '', cell)\n",
    "            politicians.append(cell)"
   ]
  },
  {
   "cell_type": "markdown",
   "id": "521202bd",
   "metadata": {},
   "source": [
    "# Scraping List of Hollywood Actors"
   ]
  },
  {
   "cell_type": "code",
   "execution_count": 4,
   "id": "b381360a",
   "metadata": {},
   "outputs": [],
   "source": [
    "actors = []\n",
    "url = \"https://en.wikipedia.org/wiki/List_of_actors_with_Academy_Award_nominations\"\n",
    "req = requests.get(url, headers)\n",
    "soup = BeautifulSoup(req.content, 'html.parser')\n",
    "actor_table = soup.find_all(\"table\", class_=\"sortable\")\n",
    "for element in actor_table:\n",
    "    rows = element.find_all('tr')\n",
    "    for row in rows[1:]:\n",
    "        cells = row.find_all('td')\n",
    "        if cells[3].text == \"~\":\n",
    "            for cell in cells[0]:\n",
    "                cell = cell.get_text(strip=True)\n",
    "                actors.append(cell)"
   ]
  },
  {
   "cell_type": "markdown",
   "id": "a18309ba",
   "metadata": {},
   "source": [
    "# Scraping List of Musicians"
   ]
  },
  {
   "cell_type": "code",
   "execution_count": 26,
   "id": "3125b8ba",
   "metadata": {},
   "outputs": [
    {
     "name": "stdout",
     "output_type": "stream",
     "text": [
      "['Hank Williams', 'Frank Sinatra', 'Bo Diddley', 'Ray Charles', 'Little Richard', 'B.B. King', 'Buddy Holly', 'Sam Cooke', 'Elvis Presley', 'Johnny Cash', 'James Brown', 'Jerry Lee Lewis', 'Smokey Robinson & The Miracles', 'Chuck Berry', 'Aretha Franklin', 'Willie Nelson', 'Simon & Garfunkel', 'The Everly Brothers', 'Otis Redding', 'Marvin Gaye', 'Van Morrison', 'The Supremes', 'Bob Dylan', 'The Beatles', 'Neil Young', 'The Temptations', 'Tina Turner', 'Rod Stewart', 'Stevie Wonder', 'The Beach Boys', 'Janis Joplin', 'The Righteous Brothers', 'Bob Marley', 'David Bowie', 'The Rolling Stones', 'Jimi Hendrix', 'Alice Cooper', 'The Velvet Underground', 'Lynyrd Skynyrd', 'The Who', 'Billy Joel', 'Elton John', 'The Doors', 'Pink Floyd', 'Bruce Springsteen', 'Creedence Clearwater Revival', 'Santana', 'Fleetwood Mac', 'Genesis', 'Led Zeppelin', 'Black Sabbath', 'Michael Jackson', 'Parliament Funkadelic', 'Judas Priest', 'Aerosmith', 'Elvis Costello', 'Hall & Oates', 'Kraftwerk', 'Queen', 'Earth Wind & Fire', 'Eagles', 'Van Halen', 'AC/DC', 'KISS', 'Blondie', 'Sex Pistols', 'Talking Heads', 'Iron Maiden', 'The Clash', 'Prince', 'U2', 'The Police', 'Whitney Houston', 'Def Leppard', 'Madonna', 'Eurythmics', 'R.E.M.', 'Depeche Mode', 'Run-D.M.C.', 'Anthrax', 'Beastie Boys', 'Metallica', 'Slayer', 'Public Enemy', 'Megadeth', \"Guns N' Roses\", 'Radiohead', 'NWA', 'Nirvana', 'Tupac Shakur', 'Jay-Z', 'Eminem', 'Pearl Jam', 'The Notorious B.I.G.', 'Outkast', 'Justin Timberlake', 'Wu-Tang Clan', 'Amy Winehouse', 'Daft Punk', 'Foo Fighters', 'Justin Bieber', 'Lady Gaga', 'Katy Perry', 'Rihanna', 'Taylor Swift', 'Britney Spears', 'Shakira', 'Justin Timberlake', 'Jennifer Lopez', 'Nicki Minaj', 'Bruno Mars', 'P!nk', 'Selena Gomez', 'Marshall Mathers', 'demetria lovato', 'Adele', 'Alicia Keys', 'Chris Brown', 'Harry Styles', 'Miley Ray Cyrus', 'One Direction', 'Lil Wayne WEEZY F', 'Niall Horan', 'Snoop Dogg', 'Louis Tomlinson', 'Mariah Carey', 'Liam Payne', 'Coldplay', 'Wiz Khalifa', 'Pitbull', 'Avril Lavigne', 'Ashley Tisdale', 'Kanye West', 'Alejandro Sanz', 'iamdiddy', 'Zayn Malik', 'Ricky Martin', 'David Guetta', 'Ivete Sangalo', '50cent', 'Juanes', 'Beyoncé Knowles', 'Ludacris', 'Usher', 'Agnes Monica', 'will.i.am', 'Paulina Rubio', 'Jessie J', 'Jessica Simpson', 'Trey Songz', 'Ed Sheeran', 'Nick Jonas', 'Carly Rae Jepsen', 'Sherina Munaf', 'T-Raww', 'joe jonas', 'Soulja Boy', 'Jason Mraz', 'Kelly Rowland', 'David Bisbal', 'Calle 13', 'Luis Fonsi', 'Thalia', 'Queen Latifah', 'Daddy Yankee', 'Vidi Aldiano', 'Cody Simpson', 'LMFAO', 'Luan Santana', 'Christina Aguilera', 'Cher Lloyd', 'Olly Murs', 'afgansyah reza', 'Lenny Kravitz', 'Jonas Brothers', 'John Legend', 'Lily Allen', 'Rev Run', 'Adam Levine', 'Sandy Leah', 'Mary J. Blige', 'Sean Kingston', 'Jaden Smith', 'Big Sean', 'Cheryl Cole', 'T.I.', 'Kelly Clarkson', 'Yoko Ono', 'Ricardo Montaner', 'Mac Miller', 'LL COOL J', 'Chayanne', 'Ne-Yo', 'J. Cole', 'Juan Luis Guerra', 'Miranda Cosgrove', 'Enrique Iglesias', 'Ciara', 'Siwon Choi', 'Ke$ha']\n"
     ]
    }
   ],
   "source": [
    "musicians = []\n",
    "url = \"https://www.imdb.com/list/ls058480497/\"\n",
    "req = requests.get(url, headers)\n",
    "soup = BeautifulSoup(req.content, 'html.parser')\n",
    "music_table = soup.find_all(\"h3\")\n",
    "for element in music_table:\n",
    "    rows = element.find_all('a')\n",
    "    for row in rows:\n",
    "        musicians.append(row.get_text(strip=True))\n",
    "url = \"https://www.theguardian.com/news/datablog/2013/apr/19/twitter-music-app-100-most-followed-musicians\"\n",
    "req = requests.get(url, headers)\n",
    "soup = BeautifulSoup(req.content, 'html.parser')\n",
    "music_table = soup.find_all(\"table\", class_=\"in-article sortable\")\n",
    "for element in music_table:\n",
    "    rows = element.find_all('tr')\n",
    "    for row in rows[2:]:\n",
    "        cells = row.find_all('td')\n",
    "        for cell in cells[2]:\n",
    "            musicians.append(cell.strip())\n",
    "print(musicians)"
   ]
  },
  {
   "cell_type": "markdown",
   "id": "ec754145",
   "metadata": {},
   "source": [
    "# Function to Scrape Actor's Biography Section"
   ]
  },
  {
   "cell_type": "code",
   "execution_count": 61,
   "id": "fa89b715",
   "metadata": {},
   "outputs": [],
   "source": [
    "def scrape_bio(person_name):\n",
    "    person_name = person_name.replace(\" \", \"_\")  \n",
    "    url = \"https://en.wikipedia.org/wiki/\" + person_name\n",
    "    req = requests.get(url, headers)\n",
    "    soup = BeautifulSoup(req.content, 'html.parser')\n",
    "    infobox = soup.find_all(\"table\", class_=\"infobox\")\n",
    "    for element in infobox:\n",
    "        rows = element.find_all('tr')        \n",
    "        bio = [row.get_text(\" \", strip=True) for row in rows]\n",
    "        for row in bio:\n",
    "            death_match = re.findall(r'Died.*', row)\n",
    "            if death_match:\n",
    "                return\n",
    "        return bio"
   ]
  },
  {
   "cell_type": "markdown",
   "id": "37b323d4",
   "metadata": {},
   "source": [
    "# Clean Marriage Data"
   ]
  },
  {
   "cell_type": "code",
   "execution_count": 134,
   "id": "5ff8e9e2",
   "metadata": {},
   "outputs": [],
   "source": [
    "def clean_marriage_data(bio):\n",
    "    clean_marriage_data = []\n",
    "    marriage_data = []\n",
    "    for element in bio:\n",
    "        marriage_match = re.findall(r'Spouse[(s)]*.*', element)\n",
    "        if(marriage_match):\n",
    "            marriage_match = re.sub(r\"\\u200b\", \"\", marriage_match[0])\n",
    "            marriage_match = re.sub(r\"Spouse[(s)]*\", \"\", marriage_match)\n",
    "            marriage_match = re.sub(r\"\\[\\d\\]\", \"\", marriage_match)\n",
    "            marriage_match = re.sub(r\"\\s*(m\\.)\\s+|\\s*(div\\.)\\.*\\s+|\\(|\\)|\\s*(died)\\s+|\\s*(cp\\.)\\.*\\s+|\\s*(separated)\\.*\\s+\", \\\n",
    "                                    \" \", marriage_match)\n",
    "            marriage_list = marriage_match.split(\"  \")\n",
    "            marriage_list = [item.strip() for item in marriage_list]\n",
    "            for item in marriage_list:\n",
    "                if item == '':\n",
    "                    marriage_list.remove(item)\n",
    "            split_years = re.compile(r'; |, ').split\n",
    "            marriage_data = [year for marriage in marriage_list for year in split_years(marriage) if year]\n",
    "            for item in marriage_data:\n",
    "                try:\n",
    "                    clean_marriage_data.append(int(item))\n",
    "                except:\n",
    "                    clean_marriage_data.append(item)\n",
    "            print(clean_marriage_data)\n",
    "            return clean_marriage_data\n",
    "    return clean_marriage_data"
   ]
  },
  {
   "cell_type": "markdown",
   "id": "4b0b5863",
   "metadata": {},
   "source": [
    "# Create Marriage Dictionary"
   ]
  },
  {
   "cell_type": "code",
   "execution_count": 147,
   "id": "7896a75a",
   "metadata": {},
   "outputs": [],
   "source": [
    "def create_marriage_dict(marriage_data):\n",
    "    marriage_dict = {}\n",
    "    if len(marriage_data) == 0:\n",
    "        pass\n",
    "    else:\n",
    "        marriage_count = 1\n",
    "        currently_married = False\n",
    "        for i in range(0, len(marriage_data), 3):\n",
    "            try:\n",
    "                duration = marriage_data[i+2] - marriage_data[i+1]\n",
    "                marriage_dict['marriage_' + str(marriage_count) + '_to'] = marriage_data[i]\n",
    "                marriage_dict['marriage_' + str(marriage_count) + '_duration' ] = duration\n",
    "                marriage_dict['marriage_' + str(marriage_count) + '_status'] = currently_married\n",
    "            except IndexError:\n",
    "                if isinstance(marriage_data[i], int):\n",
    "                    marriage_dict['marriage_' + str(marriage_count) + '_to'] = \\\n",
    "                    marriage_dict['marriage_' + str(marriage_count - 1) + '_to']\n",
    "                    try:\n",
    "                        duration = marriage_data[i+1] - marriage_data[i]\n",
    "                        marriage_dict['marriage_' + str(marriage_count) + '_duration'] = duration\n",
    "                        marriage_dict['marriage_' + str(marriage_count) + '_status'] = currently_married\n",
    "                    except IndexError:\n",
    "                        currently_married = True\n",
    "                        marriage_dict['marriage_' + str(marriage_count) + '_duration'] = 2021 - marriage_data[i]\n",
    "                        marriage_dict['marriage_' + str(marriage_count) + '_status'] = currently_married\n",
    "                else:\n",
    "                    currently_married = True\n",
    "                    marriage_dict['marriage_' + str(marriage_count) + '_to'] = marriage_data[i]\n",
    "                    marriage_dict['marriage_' + str(marriage_count) + '_duration'] = 2021 - marriage_data[i+1]\n",
    "                    marriage_dict['marriage_' + str(marriage_count) + '_status'] = currently_married\n",
    "            marriage_count += 1\n",
    "    return marriage_dict, marriage_count"
   ]
  },
  {
   "cell_type": "markdown",
   "id": "64bc0b3f",
   "metadata": {},
   "source": [
    "# Get Occupation"
   ]
  },
  {
   "cell_type": "code",
   "execution_count": 160,
   "id": "e369d15c",
   "metadata": {},
   "outputs": [],
   "source": [
    "def get_occupation(bio):\n",
    "    for element in bio:\n",
    "        occupation_match = re.findall(r'Occupation[(s)]*.*', element)\n",
    "        if occupation_match:\n",
    "            occupation_match = re.sub(r'Occupation[(s)]*', '', occupation_match[0])\n",
    "            occupation_list = occupation_match.split(\",\")\n",
    "            for item in occupation_list:\n",
    "                item = item.title()\n",
    "                '''Since we're comparing these occupations' marriage/divorce counts\n",
    "                We want to make sure they're as uniform as possible, therefore\n",
    "                singers, musicians, etc. are all \"musicians\" and people with multiple\n",
    "                professions will be defaulted to the first one listed on their bio.\n",
    "                Since politicians do not often show an \"occupation\" on their Wikipedia page,\n",
    "                we manually assign their occupation if we find that they're in office.'''\n",
    "                if item == '':\n",
    "                    occupation_list.remove(item)\n",
    "                elif (\"Musician\" in item) or (\"Singer\" in item) or (\"Rapper\" in item):\n",
    "                    main_occupation = \"Musician\"\n",
    "                    break\n",
    "                elif \"Actress\" in item:\n",
    "                    main_occupation = \"Actress\"\n",
    "                    break\n",
    "                elif \"Actor\" in item:\n",
    "                    main_occupation = \"Actor\"\n",
    "                    break\n",
    "                else:\n",
    "                    main_occupation = item.strip()\n",
    "        else:\n",
    "            occupation_match = re.findall(r'office.*', element)\n",
    "            if occupation_match:\n",
    "                main_occupation = \"Politician\"\n",
    "    return main_occupation"
   ]
  },
  {
   "cell_type": "markdown",
   "id": "d5e32a4f",
   "metadata": {},
   "source": [
    "# Add DF Entry"
   ]
  },
  {
   "cell_type": "code",
   "execution_count": 146,
   "id": "ef5faf4f",
   "metadata": {},
   "outputs": [],
   "source": [
    "def create_df_entry(person_name):\n",
    "    df = pd.DataFrame(columns=['name', 'occupation', 'marriage_no', 'partner_name', 'duration_years', \\\n",
    "                            'currently_married', 'partner_occupation'])\n",
    "    try:\n",
    "        bio = scrape_bio(person_name)\n",
    "    except:\n",
    "        try:\n",
    "            bio = scrape_bio(person_name + \"_(politician)\")\n",
    "        except:\n",
    "            return\n",
    "    try:\n",
    "        marriage_data = clean_marriage_data(bio)\n",
    "        marriage_dict, marriage_count = create_marriage_dict(marriage_data)\n",
    "    except:\n",
    "        return\n",
    "    try:\n",
    "        occupation = get_occupation(bio)\n",
    "    except:\n",
    "        occupation = \"Unknown\"\n",
    "    currently_married = False\n",
    "    for i in range(1, marriage_count):\n",
    "        partner_name = marriage_dict.get('marriage_' + str(i) + '_to')\n",
    "        duration = marriage_dict.get('marriage_' + str(i) + '_duration')\n",
    "        currently_married = marriage_dict.get('marriage_' + str(i) + '_status')\n",
    "        partner_occupation = \"Unknown\"\n",
    "        try:\n",
    "            partner_bio = scrape_bio(partner_name)\n",
    "            partner_occupation = get_occupation(partner_bio)\n",
    "        except:\n",
    "            pass\n",
    "        df = df.append({\n",
    "            'name': person_name,\n",
    "            'occupation': occupation,\n",
    "            'marriage_no': i,\n",
    "            'partner_name': partner_name,\n",
    "            'duration_years': duration,\n",
    "            'currently_married': currently_married,\n",
    "            'partner_occupation': partner_occupation,\n",
    "        }, ignore_index=True)\n",
    "    return df"
   ]
  },
  {
   "cell_type": "code",
   "execution_count": 161,
   "id": "9db94d48",
   "metadata": {},
   "outputs": [
    {
     "name": "stdout",
     "output_type": "stream",
     "text": [
      "['Kimberly Anne Scott', 1999, 2001, 2006, 2006]\n",
      " Rapper Songwriter Record Producer Record Executive Actor\n",
      " Rapper Songwriter Record Producer Record Executive Actor\n",
      " Rapper Songwriter Record Producer Record Executive Actor\n"
     ]
    },
    {
     "data": {
      "text/html": [
       "<div>\n",
       "<style scoped>\n",
       "    .dataframe tbody tr th:only-of-type {\n",
       "        vertical-align: middle;\n",
       "    }\n",
       "\n",
       "    .dataframe tbody tr th {\n",
       "        vertical-align: top;\n",
       "    }\n",
       "\n",
       "    .dataframe thead th {\n",
       "        text-align: right;\n",
       "    }\n",
       "</style>\n",
       "<table border=\"1\" class=\"dataframe\">\n",
       "  <thead>\n",
       "    <tr style=\"text-align: right;\">\n",
       "      <th></th>\n",
       "      <th>name</th>\n",
       "      <th>occupation</th>\n",
       "      <th>marriage_no</th>\n",
       "      <th>partner_name</th>\n",
       "      <th>duration_years</th>\n",
       "      <th>currently_married</th>\n",
       "      <th>partner_occupation</th>\n",
       "    </tr>\n",
       "  </thead>\n",
       "  <tbody>\n",
       "    <tr>\n",
       "      <th>0</th>\n",
       "      <td>Eminem</td>\n",
       "      <td>Musician</td>\n",
       "      <td>1</td>\n",
       "      <td>Kimberly Anne Scott</td>\n",
       "      <td>2</td>\n",
       "      <td>False</td>\n",
       "      <td>Musician</td>\n",
       "    </tr>\n",
       "    <tr>\n",
       "      <th>1</th>\n",
       "      <td>Eminem</td>\n",
       "      <td>Musician</td>\n",
       "      <td>2</td>\n",
       "      <td>Kimberly Anne Scott</td>\n",
       "      <td>0</td>\n",
       "      <td>False</td>\n",
       "      <td>Musician</td>\n",
       "    </tr>\n",
       "  </tbody>\n",
       "</table>\n",
       "</div>"
      ],
      "text/plain": [
       "     name occupation marriage_no         partner_name duration_years  \\\n",
       "0  Eminem   Musician           1  Kimberly Anne Scott              2   \n",
       "1  Eminem   Musician           2  Kimberly Anne Scott              0   \n",
       "\n",
       "  currently_married partner_occupation  \n",
       "0             False           Musician  \n",
       "1             False           Musician  "
      ]
     },
     "execution_count": 161,
     "metadata": {},
     "output_type": "execute_result"
    }
   ],
   "source": [
    "df = create_df_entry(\"Eminem\")\n",
    "df"
   ]
  },
  {
   "cell_type": "code",
   "execution_count": null,
   "id": "9ee4aff4",
   "metadata": {},
   "outputs": [],
   "source": []
  },
  {
   "cell_type": "markdown",
   "id": "81225508",
   "metadata": {},
   "source": [
    "# Testing Area"
   ]
  },
  {
   "cell_type": "markdown",
   "id": "afd96206",
   "metadata": {},
   "source": [
    "# Final Dataframe\n"
   ]
  },
  {
   "cell_type": "code",
   "execution_count": 12,
   "id": "d217f86f",
   "metadata": {},
   "outputs": [
    {
     "ename": "NameError",
     "evalue": "name 'pol_df' is not defined",
     "output_type": "error",
     "traceback": [
      "\u001b[1;31m---------------------------------------------------------------------------\u001b[0m",
      "\u001b[1;31mNameError\u001b[0m                                 Traceback (most recent call last)",
      "\u001b[1;32m<ipython-input-12-1f596b0b2dc6>\u001b[0m in \u001b[0;36m<module>\u001b[1;34m\u001b[0m\n\u001b[1;32m----> 1\u001b[1;33m \u001b[0mpol_df\u001b[0m\u001b[1;33m.\u001b[0m\u001b[0mhead\u001b[0m\u001b[1;33m(\u001b[0m\u001b[1;36m10\u001b[0m\u001b[1;33m)\u001b[0m\u001b[1;33m\u001b[0m\u001b[1;33m\u001b[0m\u001b[0m\n\u001b[0m",
      "\u001b[1;31mNameError\u001b[0m: name 'pol_df' is not defined"
     ]
    }
   ],
   "source": [
    "pol_df.head(10)"
   ]
  },
  {
   "cell_type": "code",
   "execution_count": null,
   "id": "a1b58c67",
   "metadata": {},
   "outputs": [],
   "source": []
  }
 ],
 "metadata": {
  "kernelspec": {
   "display_name": "Python 3",
   "language": "python",
   "name": "python3"
  },
  "language_info": {
   "codemirror_mode": {
    "name": "ipython",
    "version": 3
   },
   "file_extension": ".py",
   "mimetype": "text/x-python",
   "name": "python",
   "nbconvert_exporter": "python",
   "pygments_lexer": "ipython3",
   "version": "3.8.8"
  }
 },
 "nbformat": 4,
 "nbformat_minor": 5
}
